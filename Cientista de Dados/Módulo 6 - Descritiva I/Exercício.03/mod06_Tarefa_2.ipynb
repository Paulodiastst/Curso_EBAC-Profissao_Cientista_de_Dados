{
  "cells": [
    {
      "cell_type": "markdown",
      "source": [
        "<img src=\"https://raw.githubusercontent.com/Paulodiastst/Curso_EBAC-Profissao_Cientista_de_Dados/main/Cientista%20de%20Dados/ebac-course-utils/media/logo/newebac_logo_black_half.png\" alt=\"ebac-logo\">\n",
        "\n",
        "---\n",
        "\n",
        "# **Profissão: Cientista de Dados**\n",
        "### **Módulo 6** | Descritiva I | Exercício 3\n",
        "\n",
        "Aluno [Paulo Roberto](https://www.linkedin.com/in/paulo-roberto/)<br>\n",
        "Data: 03 de dezembro de 2023.\n",
        "\n",
        "---"
      ],
      "metadata": {
        "id": "wfZXr-Hvfo_p"
      }
    },
    {
      "cell_type": "markdown",
      "metadata": {
        "id": "eAnyR3-Mfm4i"
      },
      "source": [
        "# Módulo 06 Tarefa 2"
      ]
    },
    {
      "cell_type": "code",
      "source": [
        "# Importando as bibliotecas necessárias\n",
        "import pandas as pd\n",
        "import matplotlib.pyplot as plt\n",
        "import seaborn as sns\n",
        "\n",
        "%matplotlib inline"
      ],
      "metadata": {
        "id": "b1K2MHw3gUgl"
      },
      "execution_count": 1,
      "outputs": []
    },
    {
      "cell_type": "code",
      "execution_count": 2,
      "metadata": {
        "colab": {
          "base_uri": "https://localhost:8080/",
          "height": 704
        },
        "id": "EOF3cLCdfm4q",
        "outputId": "1e348779-df0b-4812-aa3f-ce919baef7aa"
      },
      "outputs": [
        {
          "output_type": "execute_result",
          "data": {
            "text/plain": [
              "       ORIGEM   CODESTAB  CODMUNNASC  LOCNASC  IDADEMAE  ESTCIVMAE  \\\n",
              "0           1  2679477.0      110001        1        19        5.0   \n",
              "1           1  2679477.0      110001        1        29        2.0   \n",
              "2           1  2679477.0      110001        1        37        9.0   \n",
              "3           1  2516500.0      110001        1        30        5.0   \n",
              "4           1  2516500.0      110001        1        30        2.0   \n",
              "...       ...        ...         ...      ...       ...        ...   \n",
              "27023       1  2604388.0      510340        1        32        2.0   \n",
              "27024       1  2752654.0      510675        1        19        1.0   \n",
              "27025       1  9659366.0      510787        1        24        2.0   \n",
              "27026       1  9659366.0      510787        1        21        2.0   \n",
              "27027       1  2795655.0      510792        1        18        5.0   \n",
              "\n",
              "                ESCMAE  CODOCUPMAE  QTDFILVIVO  QTDFILMORT  ...  KOTELCHUCK  \\\n",
              "0          8 a 11 anos         NaN         0.0         0.0  ...           5   \n",
              "1          8 a 11 anos    999992.0         1.0         0.0  ...           5   \n",
              "2          8 a 11 anos    513205.0         2.0         0.0  ...           5   \n",
              "3      12 anos ou mais    231205.0         0.0         0.0  ...           4   \n",
              "4          8 a 11 anos    999992.0         1.0         0.0  ...           5   \n",
              "...                ...         ...         ...         ...  ...         ...   \n",
              "27023  12 anos ou mais    333115.0         1.0         0.0  ...           5   \n",
              "27024      8 a 11 anos    999992.0         0.0         0.0  ...           5   \n",
              "27025      8 a 11 anos    421125.0         0.0         1.0  ...           5   \n",
              "27026      8 a 11 anos    999992.0         1.0         0.0  ...           5   \n",
              "27027      8 a 11 anos    999992.0         1.0         0.0  ...           5   \n",
              "\n",
              "      CONTADOR munResStatus munResTipo               munResNome  munResUf  \\\n",
              "0            1        ATIVO      MUNIC    Alta Floresta D'Oeste  Rondônia   \n",
              "1            2        ATIVO      MUNIC    Alta Floresta D'Oeste  Rondônia   \n",
              "2            3        ATIVO      MUNIC    Alta Floresta D'Oeste  Rondônia   \n",
              "3            4        ATIVO      MUNIC  Alto Alegre dos Parecis  Rondônia   \n",
              "4            5        ATIVO      MUNIC    Alta Floresta D'Oeste  Rondônia   \n",
              "...        ...          ...        ...                      ...       ...   \n",
              "27023  2767632        ATIVO      MUNIC                  Vilhena  Rondônia   \n",
              "27024  2772678        ATIVO      MUNIC              Chupinguaia  Rondônia   \n",
              "27025  2776905        ATIVO      MUNIC                  Vilhena  Rondônia   \n",
              "27026  2777105        ATIVO      MUNIC                  Vilhena  Rondônia   \n",
              "27027  2780269        ATIVO      MUNIC  Novo Horizonte do Oeste  Rondônia   \n",
              "\n",
              "       munResLat munResLon  munResAlt  munResArea  \n",
              "0      -11.93554 -61.99982      338.0    7067.025  \n",
              "1      -11.93554 -61.99982      338.0    7067.025  \n",
              "2      -11.93554 -61.99982      338.0    7067.025  \n",
              "3      -12.13178 -61.85308      397.0    3958.273  \n",
              "4      -11.93554 -61.99982      338.0    7067.025  \n",
              "...          ...       ...        ...         ...  \n",
              "27023  -12.74137 -60.13858      595.0   11518.915  \n",
              "27024  -12.55684 -60.90185      340.0    5126.723  \n",
              "27025  -12.74137 -60.13858      595.0   11518.915  \n",
              "27026  -12.74137 -60.13858      595.0   11518.915  \n",
              "27027  -11.70974 -61.99439      230.0     843.446  \n",
              "\n",
              "[27028 rows x 69 columns]"
            ],
            "text/html": [
              "\n",
              "  <div id=\"df-446063ef-35ac-44cf-895a-7534808fff8e\" class=\"colab-df-container\">\n",
              "    <div>\n",
              "<style scoped>\n",
              "    .dataframe tbody tr th:only-of-type {\n",
              "        vertical-align: middle;\n",
              "    }\n",
              "\n",
              "    .dataframe tbody tr th {\n",
              "        vertical-align: top;\n",
              "    }\n",
              "\n",
              "    .dataframe thead th {\n",
              "        text-align: right;\n",
              "    }\n",
              "</style>\n",
              "<table border=\"1\" class=\"dataframe\">\n",
              "  <thead>\n",
              "    <tr style=\"text-align: right;\">\n",
              "      <th></th>\n",
              "      <th>ORIGEM</th>\n",
              "      <th>CODESTAB</th>\n",
              "      <th>CODMUNNASC</th>\n",
              "      <th>LOCNASC</th>\n",
              "      <th>IDADEMAE</th>\n",
              "      <th>ESTCIVMAE</th>\n",
              "      <th>ESCMAE</th>\n",
              "      <th>CODOCUPMAE</th>\n",
              "      <th>QTDFILVIVO</th>\n",
              "      <th>QTDFILMORT</th>\n",
              "      <th>...</th>\n",
              "      <th>KOTELCHUCK</th>\n",
              "      <th>CONTADOR</th>\n",
              "      <th>munResStatus</th>\n",
              "      <th>munResTipo</th>\n",
              "      <th>munResNome</th>\n",
              "      <th>munResUf</th>\n",
              "      <th>munResLat</th>\n",
              "      <th>munResLon</th>\n",
              "      <th>munResAlt</th>\n",
              "      <th>munResArea</th>\n",
              "    </tr>\n",
              "  </thead>\n",
              "  <tbody>\n",
              "    <tr>\n",
              "      <th>0</th>\n",
              "      <td>1</td>\n",
              "      <td>2679477.0</td>\n",
              "      <td>110001</td>\n",
              "      <td>1</td>\n",
              "      <td>19</td>\n",
              "      <td>5.0</td>\n",
              "      <td>8 a 11 anos</td>\n",
              "      <td>NaN</td>\n",
              "      <td>0.0</td>\n",
              "      <td>0.0</td>\n",
              "      <td>...</td>\n",
              "      <td>5</td>\n",
              "      <td>1</td>\n",
              "      <td>ATIVO</td>\n",
              "      <td>MUNIC</td>\n",
              "      <td>Alta Floresta D'Oeste</td>\n",
              "      <td>Rondônia</td>\n",
              "      <td>-11.93554</td>\n",
              "      <td>-61.99982</td>\n",
              "      <td>338.0</td>\n",
              "      <td>7067.025</td>\n",
              "    </tr>\n",
              "    <tr>\n",
              "      <th>1</th>\n",
              "      <td>1</td>\n",
              "      <td>2679477.0</td>\n",
              "      <td>110001</td>\n",
              "      <td>1</td>\n",
              "      <td>29</td>\n",
              "      <td>2.0</td>\n",
              "      <td>8 a 11 anos</td>\n",
              "      <td>999992.0</td>\n",
              "      <td>1.0</td>\n",
              "      <td>0.0</td>\n",
              "      <td>...</td>\n",
              "      <td>5</td>\n",
              "      <td>2</td>\n",
              "      <td>ATIVO</td>\n",
              "      <td>MUNIC</td>\n",
              "      <td>Alta Floresta D'Oeste</td>\n",
              "      <td>Rondônia</td>\n",
              "      <td>-11.93554</td>\n",
              "      <td>-61.99982</td>\n",
              "      <td>338.0</td>\n",
              "      <td>7067.025</td>\n",
              "    </tr>\n",
              "    <tr>\n",
              "      <th>2</th>\n",
              "      <td>1</td>\n",
              "      <td>2679477.0</td>\n",
              "      <td>110001</td>\n",
              "      <td>1</td>\n",
              "      <td>37</td>\n",
              "      <td>9.0</td>\n",
              "      <td>8 a 11 anos</td>\n",
              "      <td>513205.0</td>\n",
              "      <td>2.0</td>\n",
              "      <td>0.0</td>\n",
              "      <td>...</td>\n",
              "      <td>5</td>\n",
              "      <td>3</td>\n",
              "      <td>ATIVO</td>\n",
              "      <td>MUNIC</td>\n",
              "      <td>Alta Floresta D'Oeste</td>\n",
              "      <td>Rondônia</td>\n",
              "      <td>-11.93554</td>\n",
              "      <td>-61.99982</td>\n",
              "      <td>338.0</td>\n",
              "      <td>7067.025</td>\n",
              "    </tr>\n",
              "    <tr>\n",
              "      <th>3</th>\n",
              "      <td>1</td>\n",
              "      <td>2516500.0</td>\n",
              "      <td>110001</td>\n",
              "      <td>1</td>\n",
              "      <td>30</td>\n",
              "      <td>5.0</td>\n",
              "      <td>12 anos ou mais</td>\n",
              "      <td>231205.0</td>\n",
              "      <td>0.0</td>\n",
              "      <td>0.0</td>\n",
              "      <td>...</td>\n",
              "      <td>4</td>\n",
              "      <td>4</td>\n",
              "      <td>ATIVO</td>\n",
              "      <td>MUNIC</td>\n",
              "      <td>Alto Alegre dos Parecis</td>\n",
              "      <td>Rondônia</td>\n",
              "      <td>-12.13178</td>\n",
              "      <td>-61.85308</td>\n",
              "      <td>397.0</td>\n",
              "      <td>3958.273</td>\n",
              "    </tr>\n",
              "    <tr>\n",
              "      <th>4</th>\n",
              "      <td>1</td>\n",
              "      <td>2516500.0</td>\n",
              "      <td>110001</td>\n",
              "      <td>1</td>\n",
              "      <td>30</td>\n",
              "      <td>2.0</td>\n",
              "      <td>8 a 11 anos</td>\n",
              "      <td>999992.0</td>\n",
              "      <td>1.0</td>\n",
              "      <td>0.0</td>\n",
              "      <td>...</td>\n",
              "      <td>5</td>\n",
              "      <td>5</td>\n",
              "      <td>ATIVO</td>\n",
              "      <td>MUNIC</td>\n",
              "      <td>Alta Floresta D'Oeste</td>\n",
              "      <td>Rondônia</td>\n",
              "      <td>-11.93554</td>\n",
              "      <td>-61.99982</td>\n",
              "      <td>338.0</td>\n",
              "      <td>7067.025</td>\n",
              "    </tr>\n",
              "    <tr>\n",
              "      <th>...</th>\n",
              "      <td>...</td>\n",
              "      <td>...</td>\n",
              "      <td>...</td>\n",
              "      <td>...</td>\n",
              "      <td>...</td>\n",
              "      <td>...</td>\n",
              "      <td>...</td>\n",
              "      <td>...</td>\n",
              "      <td>...</td>\n",
              "      <td>...</td>\n",
              "      <td>...</td>\n",
              "      <td>...</td>\n",
              "      <td>...</td>\n",
              "      <td>...</td>\n",
              "      <td>...</td>\n",
              "      <td>...</td>\n",
              "      <td>...</td>\n",
              "      <td>...</td>\n",
              "      <td>...</td>\n",
              "      <td>...</td>\n",
              "      <td>...</td>\n",
              "    </tr>\n",
              "    <tr>\n",
              "      <th>27023</th>\n",
              "      <td>1</td>\n",
              "      <td>2604388.0</td>\n",
              "      <td>510340</td>\n",
              "      <td>1</td>\n",
              "      <td>32</td>\n",
              "      <td>2.0</td>\n",
              "      <td>12 anos ou mais</td>\n",
              "      <td>333115.0</td>\n",
              "      <td>1.0</td>\n",
              "      <td>0.0</td>\n",
              "      <td>...</td>\n",
              "      <td>5</td>\n",
              "      <td>2767632</td>\n",
              "      <td>ATIVO</td>\n",
              "      <td>MUNIC</td>\n",
              "      <td>Vilhena</td>\n",
              "      <td>Rondônia</td>\n",
              "      <td>-12.74137</td>\n",
              "      <td>-60.13858</td>\n",
              "      <td>595.0</td>\n",
              "      <td>11518.915</td>\n",
              "    </tr>\n",
              "    <tr>\n",
              "      <th>27024</th>\n",
              "      <td>1</td>\n",
              "      <td>2752654.0</td>\n",
              "      <td>510675</td>\n",
              "      <td>1</td>\n",
              "      <td>19</td>\n",
              "      <td>1.0</td>\n",
              "      <td>8 a 11 anos</td>\n",
              "      <td>999992.0</td>\n",
              "      <td>0.0</td>\n",
              "      <td>0.0</td>\n",
              "      <td>...</td>\n",
              "      <td>5</td>\n",
              "      <td>2772678</td>\n",
              "      <td>ATIVO</td>\n",
              "      <td>MUNIC</td>\n",
              "      <td>Chupinguaia</td>\n",
              "      <td>Rondônia</td>\n",
              "      <td>-12.55684</td>\n",
              "      <td>-60.90185</td>\n",
              "      <td>340.0</td>\n",
              "      <td>5126.723</td>\n",
              "    </tr>\n",
              "    <tr>\n",
              "      <th>27025</th>\n",
              "      <td>1</td>\n",
              "      <td>9659366.0</td>\n",
              "      <td>510787</td>\n",
              "      <td>1</td>\n",
              "      <td>24</td>\n",
              "      <td>2.0</td>\n",
              "      <td>8 a 11 anos</td>\n",
              "      <td>421125.0</td>\n",
              "      <td>0.0</td>\n",
              "      <td>1.0</td>\n",
              "      <td>...</td>\n",
              "      <td>5</td>\n",
              "      <td>2776905</td>\n",
              "      <td>ATIVO</td>\n",
              "      <td>MUNIC</td>\n",
              "      <td>Vilhena</td>\n",
              "      <td>Rondônia</td>\n",
              "      <td>-12.74137</td>\n",
              "      <td>-60.13858</td>\n",
              "      <td>595.0</td>\n",
              "      <td>11518.915</td>\n",
              "    </tr>\n",
              "    <tr>\n",
              "      <th>27026</th>\n",
              "      <td>1</td>\n",
              "      <td>9659366.0</td>\n",
              "      <td>510787</td>\n",
              "      <td>1</td>\n",
              "      <td>21</td>\n",
              "      <td>2.0</td>\n",
              "      <td>8 a 11 anos</td>\n",
              "      <td>999992.0</td>\n",
              "      <td>1.0</td>\n",
              "      <td>0.0</td>\n",
              "      <td>...</td>\n",
              "      <td>5</td>\n",
              "      <td>2777105</td>\n",
              "      <td>ATIVO</td>\n",
              "      <td>MUNIC</td>\n",
              "      <td>Vilhena</td>\n",
              "      <td>Rondônia</td>\n",
              "      <td>-12.74137</td>\n",
              "      <td>-60.13858</td>\n",
              "      <td>595.0</td>\n",
              "      <td>11518.915</td>\n",
              "    </tr>\n",
              "    <tr>\n",
              "      <th>27027</th>\n",
              "      <td>1</td>\n",
              "      <td>2795655.0</td>\n",
              "      <td>510792</td>\n",
              "      <td>1</td>\n",
              "      <td>18</td>\n",
              "      <td>5.0</td>\n",
              "      <td>8 a 11 anos</td>\n",
              "      <td>999992.0</td>\n",
              "      <td>1.0</td>\n",
              "      <td>0.0</td>\n",
              "      <td>...</td>\n",
              "      <td>5</td>\n",
              "      <td>2780269</td>\n",
              "      <td>ATIVO</td>\n",
              "      <td>MUNIC</td>\n",
              "      <td>Novo Horizonte do Oeste</td>\n",
              "      <td>Rondônia</td>\n",
              "      <td>-11.70974</td>\n",
              "      <td>-61.99439</td>\n",
              "      <td>230.0</td>\n",
              "      <td>843.446</td>\n",
              "    </tr>\n",
              "  </tbody>\n",
              "</table>\n",
              "<p>27028 rows × 69 columns</p>\n",
              "</div>\n",
              "    <div class=\"colab-df-buttons\">\n",
              "\n",
              "  <div class=\"colab-df-container\">\n",
              "    <button class=\"colab-df-convert\" onclick=\"convertToInteractive('df-446063ef-35ac-44cf-895a-7534808fff8e')\"\n",
              "            title=\"Convert this dataframe to an interactive table.\"\n",
              "            style=\"display:none;\">\n",
              "\n",
              "  <svg xmlns=\"http://www.w3.org/2000/svg\" height=\"24px\" viewBox=\"0 -960 960 960\">\n",
              "    <path d=\"M120-120v-720h720v720H120Zm60-500h600v-160H180v160Zm220 220h160v-160H400v160Zm0 220h160v-160H400v160ZM180-400h160v-160H180v160Zm440 0h160v-160H620v160ZM180-180h160v-160H180v160Zm440 0h160v-160H620v160Z\"/>\n",
              "  </svg>\n",
              "    </button>\n",
              "\n",
              "  <style>\n",
              "    .colab-df-container {\n",
              "      display:flex;\n",
              "      gap: 12px;\n",
              "    }\n",
              "\n",
              "    .colab-df-convert {\n",
              "      background-color: #E8F0FE;\n",
              "      border: none;\n",
              "      border-radius: 50%;\n",
              "      cursor: pointer;\n",
              "      display: none;\n",
              "      fill: #1967D2;\n",
              "      height: 32px;\n",
              "      padding: 0 0 0 0;\n",
              "      width: 32px;\n",
              "    }\n",
              "\n",
              "    .colab-df-convert:hover {\n",
              "      background-color: #E2EBFA;\n",
              "      box-shadow: 0px 1px 2px rgba(60, 64, 67, 0.3), 0px 1px 3px 1px rgba(60, 64, 67, 0.15);\n",
              "      fill: #174EA6;\n",
              "    }\n",
              "\n",
              "    .colab-df-buttons div {\n",
              "      margin-bottom: 4px;\n",
              "    }\n",
              "\n",
              "    [theme=dark] .colab-df-convert {\n",
              "      background-color: #3B4455;\n",
              "      fill: #D2E3FC;\n",
              "    }\n",
              "\n",
              "    [theme=dark] .colab-df-convert:hover {\n",
              "      background-color: #434B5C;\n",
              "      box-shadow: 0px 1px 3px 1px rgba(0, 0, 0, 0.15);\n",
              "      filter: drop-shadow(0px 1px 2px rgba(0, 0, 0, 0.3));\n",
              "      fill: #FFFFFF;\n",
              "    }\n",
              "  </style>\n",
              "\n",
              "    <script>\n",
              "      const buttonEl =\n",
              "        document.querySelector('#df-446063ef-35ac-44cf-895a-7534808fff8e button.colab-df-convert');\n",
              "      buttonEl.style.display =\n",
              "        google.colab.kernel.accessAllowed ? 'block' : 'none';\n",
              "\n",
              "      async function convertToInteractive(key) {\n",
              "        const element = document.querySelector('#df-446063ef-35ac-44cf-895a-7534808fff8e');\n",
              "        const dataTable =\n",
              "          await google.colab.kernel.invokeFunction('convertToInteractive',\n",
              "                                                    [key], {});\n",
              "        if (!dataTable) return;\n",
              "\n",
              "        const docLinkHtml = 'Like what you see? Visit the ' +\n",
              "          '<a target=\"_blank\" href=https://colab.research.google.com/notebooks/data_table.ipynb>data table notebook</a>'\n",
              "          + ' to learn more about interactive tables.';\n",
              "        element.innerHTML = '';\n",
              "        dataTable['output_type'] = 'display_data';\n",
              "        await google.colab.output.renderOutput(dataTable, element);\n",
              "        const docLink = document.createElement('div');\n",
              "        docLink.innerHTML = docLinkHtml;\n",
              "        element.appendChild(docLink);\n",
              "      }\n",
              "    </script>\n",
              "  </div>\n",
              "\n",
              "\n",
              "<div id=\"df-12e6b518-3938-4220-aac7-31d89b6c7e4a\">\n",
              "  <button class=\"colab-df-quickchart\" onclick=\"quickchart('df-12e6b518-3938-4220-aac7-31d89b6c7e4a')\"\n",
              "            title=\"Suggest charts\"\n",
              "            style=\"display:none;\">\n",
              "\n",
              "<svg xmlns=\"http://www.w3.org/2000/svg\" height=\"24px\"viewBox=\"0 0 24 24\"\n",
              "     width=\"24px\">\n",
              "    <g>\n",
              "        <path d=\"M19 3H5c-1.1 0-2 .9-2 2v14c0 1.1.9 2 2 2h14c1.1 0 2-.9 2-2V5c0-1.1-.9-2-2-2zM9 17H7v-7h2v7zm4 0h-2V7h2v10zm4 0h-2v-4h2v4z\"/>\n",
              "    </g>\n",
              "</svg>\n",
              "  </button>\n",
              "\n",
              "<style>\n",
              "  .colab-df-quickchart {\n",
              "      --bg-color: #E8F0FE;\n",
              "      --fill-color: #1967D2;\n",
              "      --hover-bg-color: #E2EBFA;\n",
              "      --hover-fill-color: #174EA6;\n",
              "      --disabled-fill-color: #AAA;\n",
              "      --disabled-bg-color: #DDD;\n",
              "  }\n",
              "\n",
              "  [theme=dark] .colab-df-quickchart {\n",
              "      --bg-color: #3B4455;\n",
              "      --fill-color: #D2E3FC;\n",
              "      --hover-bg-color: #434B5C;\n",
              "      --hover-fill-color: #FFFFFF;\n",
              "      --disabled-bg-color: #3B4455;\n",
              "      --disabled-fill-color: #666;\n",
              "  }\n",
              "\n",
              "  .colab-df-quickchart {\n",
              "    background-color: var(--bg-color);\n",
              "    border: none;\n",
              "    border-radius: 50%;\n",
              "    cursor: pointer;\n",
              "    display: none;\n",
              "    fill: var(--fill-color);\n",
              "    height: 32px;\n",
              "    padding: 0;\n",
              "    width: 32px;\n",
              "  }\n",
              "\n",
              "  .colab-df-quickchart:hover {\n",
              "    background-color: var(--hover-bg-color);\n",
              "    box-shadow: 0 1px 2px rgba(60, 64, 67, 0.3), 0 1px 3px 1px rgba(60, 64, 67, 0.15);\n",
              "    fill: var(--button-hover-fill-color);\n",
              "  }\n",
              "\n",
              "  .colab-df-quickchart-complete:disabled,\n",
              "  .colab-df-quickchart-complete:disabled:hover {\n",
              "    background-color: var(--disabled-bg-color);\n",
              "    fill: var(--disabled-fill-color);\n",
              "    box-shadow: none;\n",
              "  }\n",
              "\n",
              "  .colab-df-spinner {\n",
              "    border: 2px solid var(--fill-color);\n",
              "    border-color: transparent;\n",
              "    border-bottom-color: var(--fill-color);\n",
              "    animation:\n",
              "      spin 1s steps(1) infinite;\n",
              "  }\n",
              "\n",
              "  @keyframes spin {\n",
              "    0% {\n",
              "      border-color: transparent;\n",
              "      border-bottom-color: var(--fill-color);\n",
              "      border-left-color: var(--fill-color);\n",
              "    }\n",
              "    20% {\n",
              "      border-color: transparent;\n",
              "      border-left-color: var(--fill-color);\n",
              "      border-top-color: var(--fill-color);\n",
              "    }\n",
              "    30% {\n",
              "      border-color: transparent;\n",
              "      border-left-color: var(--fill-color);\n",
              "      border-top-color: var(--fill-color);\n",
              "      border-right-color: var(--fill-color);\n",
              "    }\n",
              "    40% {\n",
              "      border-color: transparent;\n",
              "      border-right-color: var(--fill-color);\n",
              "      border-top-color: var(--fill-color);\n",
              "    }\n",
              "    60% {\n",
              "      border-color: transparent;\n",
              "      border-right-color: var(--fill-color);\n",
              "    }\n",
              "    80% {\n",
              "      border-color: transparent;\n",
              "      border-right-color: var(--fill-color);\n",
              "      border-bottom-color: var(--fill-color);\n",
              "    }\n",
              "    90% {\n",
              "      border-color: transparent;\n",
              "      border-bottom-color: var(--fill-color);\n",
              "    }\n",
              "  }\n",
              "</style>\n",
              "\n",
              "  <script>\n",
              "    async function quickchart(key) {\n",
              "      const quickchartButtonEl =\n",
              "        document.querySelector('#' + key + ' button');\n",
              "      quickchartButtonEl.disabled = true;  // To prevent multiple clicks.\n",
              "      quickchartButtonEl.classList.add('colab-df-spinner');\n",
              "      try {\n",
              "        const charts = await google.colab.kernel.invokeFunction(\n",
              "            'suggestCharts', [key], {});\n",
              "      } catch (error) {\n",
              "        console.error('Error during call to suggestCharts:', error);\n",
              "      }\n",
              "      quickchartButtonEl.classList.remove('colab-df-spinner');\n",
              "      quickchartButtonEl.classList.add('colab-df-quickchart-complete');\n",
              "    }\n",
              "    (() => {\n",
              "      let quickchartButtonEl =\n",
              "        document.querySelector('#df-12e6b518-3938-4220-aac7-31d89b6c7e4a button');\n",
              "      quickchartButtonEl.style.display =\n",
              "        google.colab.kernel.accessAllowed ? 'block' : 'none';\n",
              "    })();\n",
              "  </script>\n",
              "</div>\n",
              "    </div>\n",
              "  </div>\n"
            ]
          },
          "metadata": {},
          "execution_count": 2
        }
      ],
      "source": [
        "# Carregue os dados\n",
        "df_sinasc = pd.read_csv('/b1abb33c4f.csv')\n",
        "df_sinasc"
      ]
    },
    {
      "cell_type": "code",
      "source": [
        "print(df_sinasc.columns)"
      ],
      "metadata": {
        "colab": {
          "base_uri": "https://localhost:8080/"
        },
        "id": "ZtgygK_Mp8g3",
        "outputId": "ef309570-8c19-481b-98b4-7c75e1665a54"
      },
      "execution_count": 3,
      "outputs": [
        {
          "output_type": "stream",
          "name": "stdout",
          "text": [
            "Index(['ORIGEM', 'CODESTAB', 'CODMUNNASC', 'LOCNASC', 'IDADEMAE', 'ESTCIVMAE',\n",
            "       'ESCMAE', 'CODOCUPMAE', 'QTDFILVIVO', 'QTDFILMORT', 'CODMUNRES',\n",
            "       'GESTACAO', 'GRAVIDEZ', 'PARTO', 'CONSULTAS', 'DTNASC', 'HORANASC',\n",
            "       'SEXO', 'APGAR1', 'APGAR5', 'RACACOR', 'PESO', 'IDANOMAL', 'DTCADASTRO',\n",
            "       'CODANOMAL', 'NUMEROLOTE', 'VERSAOSIST', 'DTRECEBIM', 'DIFDATA',\n",
            "       'DTRECORIGA', 'NATURALMAE', 'CODMUNNATU', 'CODUFNATU', 'ESCMAE2010',\n",
            "       'SERIESCMAE', 'DTNASCMAE', 'RACACORMAE', 'QTDGESTANT', 'QTDPARTNOR',\n",
            "       'QTDPARTCES', 'IDADEPAI', 'DTULTMENST', 'SEMAGESTAC', 'TPMETESTIM',\n",
            "       'CONSPRENAT', 'MESPRENAT', 'TPAPRESENT', 'STTRABPART', 'STCESPARTO',\n",
            "       'TPNASCASSI', 'TPFUNCRESP', 'TPDOCRESP', 'DTDECLARAC', 'ESCMAEAGR1',\n",
            "       'STDNEPIDEM', 'STDNNOVA', 'CODPAISRES', 'TPROBSON', 'PARIDADE',\n",
            "       'KOTELCHUCK', 'CONTADOR', 'munResStatus', 'munResTipo', 'munResNome',\n",
            "       'munResUf', 'munResLat', 'munResLon', 'munResAlt', 'munResArea'],\n",
            "      dtype='object')\n"
          ]
        }
      ]
    },
    {
      "cell_type": "code",
      "source": [
        "coluna_dtnasc = df_sinasc['DTNASC']\n",
        "print(coluna_dtnasc)"
      ],
      "metadata": {
        "colab": {
          "base_uri": "https://localhost:8080/"
        },
        "id": "3akH9olfq0K9",
        "outputId": "59c7b3ed-f9eb-438e-c68c-bcfcf62cdf62"
      },
      "execution_count": 4,
      "outputs": [
        {
          "output_type": "stream",
          "name": "stdout",
          "text": [
            "0        2019-02-19\n",
            "1        2019-02-21\n",
            "2        2019-02-25\n",
            "3        2019-03-20\n",
            "4        2019-03-23\n",
            "            ...    \n",
            "27023    2019-12-13\n",
            "27024    2019-10-04\n",
            "27025    2019-08-02\n",
            "27026    2019-12-23\n",
            "27027    2019-12-27\n",
            "Name: DTNASC, Length: 27028, dtype: object\n"
          ]
        }
      ]
    },
    {
      "cell_type": "code",
      "source": [
        "coluna_dtnasc.min()"
      ],
      "metadata": {
        "colab": {
          "base_uri": "https://localhost:8080/",
          "height": 35
        },
        "id": "dvTszdDdvBCn",
        "outputId": "b36a4d77-47b0-4672-fce4-b43473f05bc7"
      },
      "execution_count": 10,
      "outputs": [
        {
          "output_type": "execute_result",
          "data": {
            "text/plain": [
              "'2019-01-01'"
            ],
            "application/vnd.google.colaboratory.intrinsic+json": {
              "type": "string"
            }
          },
          "metadata": {},
          "execution_count": 10
        }
      ]
    },
    {
      "cell_type": "code",
      "source": [
        "coluna_dtnasc.max()"
      ],
      "metadata": {
        "colab": {
          "base_uri": "https://localhost:8080/",
          "height": 35
        },
        "id": "BexlqLUzujI7",
        "outputId": "2447a87f-674a-4fe1-a898-1657d27e9253"
      },
      "execution_count": 9,
      "outputs": [
        {
          "output_type": "execute_result",
          "data": {
            "text/plain": [
              "'2019-12-31'"
            ],
            "application/vnd.google.colaboratory.intrinsic+json": {
              "type": "string"
            }
          },
          "metadata": {},
          "execution_count": 9
        }
      ]
    },
    {
      "cell_type": "markdown",
      "metadata": {
        "id": "IsodwgKofm4o"
      },
      "source": [
        "####  1) Na base do SINASC do DataSUS, faça um boxplot da idade da mãe."
      ]
    },
    {
      "cell_type": "code",
      "source": [
        "# Crie o gráfico\n",
        "plt.rc('figure', figsize=(12,6))\n",
        "\n",
        "fig, axes = plt.subplots(1,2)\n",
        "\n",
        "# Utilizando a biblioteca pandas:\n",
        "df_sinasc.boxplot(column='IDADEMAE', ax=axes[0])\n",
        "axes[0].set_title('Idade da mãe')\n",
        "axes[0].set_ylabel('Idade (em anos)')\n",
        "axes[0].set_xlabel('')\n",
        "\n",
        "# Utilizando a biblioteca seaborn:\n",
        "sns.boxplot(y='IDADEMAE', data=df_sinasc, ax=axes[1])\n",
        "axes[1].set_title('Idade da mãe')\n",
        "axes[1].set_ylabel('Idade (em anos)')\n",
        "\n",
        "# Adicione uma legenda\n",
        "axes[0].legend(['Pandas'])\n",
        "axes[1].legend(['Seaborn'])\n",
        "\n",
        "# Salve o gráfico\n",
        "plt.savefig('boxplot_idade_mae.png')\n",
        "\n",
        "# Exiba o gráfico\n",
        "plt.show()"
      ],
      "metadata": {
        "colab": {
          "base_uri": "https://localhost:8080/",
          "height": 545
        },
        "id": "L7JdAidLiswM",
        "outputId": "f0bc1395-21f8-496b-9a3a-5c44feef1ed4"
      },
      "execution_count": 5,
      "outputs": [
        {
          "output_type": "display_data",
          "data": {
            "text/plain": [
              "<Figure size 1200x600 with 2 Axes>"
            ],
            "image/png": "[encoded data removed]"
          },
          "metadata": {}
        }
      ]
    },
    {
      "cell_type": "markdown",
      "metadata": {
        "id": "bEQz5parfm4q"
      },
      "source": [
        "####  2) Faça um boxplot do peso do bebê"
      ]
    },
    {
      "cell_type": "code",
      "execution_count": 6,
      "metadata": {
        "colab": {
          "base_uri": "https://localhost:8080/",
          "height": 545
        },
        "id": "S2XrvrtRfm4r",
        "outputId": "331ce3f0-7a2f-4cdc-95b3-524ffef4f999"
      },
      "outputs": [
        {
          "output_type": "display_data",
          "data": {
            "text/plain": [
              "<Figure size 1200x600 with 2 Axes>"
            ],
            "image/png": "[encoded data removed]"
          },
          "metadata": {}
        }
      ],
      "source": [
        "# Crie o gráfico\n",
        "plt.rc('figure', figsize=(12, 6))\n",
        "fig, axes = plt.subplots(1, 2)\n",
        "\n",
        "# Gerencie os boxplots\n",
        "df_sinasc.boxplot(column='PESO', ax=axes[0])\n",
        "sns.boxplot(y='PESO', data=df_sinasc, ax=axes[1])\n",
        "\n",
        "# Personalize os títulos e rótulos\n",
        "axes[0].set_title('Peso ao Nascer (Pandas)')\n",
        "axes[1].set_title('Peso ao Nascer (Seaborn)')\n",
        "axes[0].set_ylabel('Peso (gramas)')\n",
        "axes[1].set_ylabel('Peso (gramas)')\n",
        "\n",
        "# Adicione uma legenda\n",
        "axes[0].legend(['Pandas'])\n",
        "axes[1].legend(['Seaborn'])\n",
        "\n",
        "# Ajuste o layout do subplot\n",
        "plt.subplots_adjust(wspace=0.3)\n",
        "\n",
        "# Exiba o gráfico\n",
        "plt.show()"
      ]
    },
    {
      "cell_type": "markdown",
      "metadata": {
        "id": "um5sw2J4fm4s"
      },
      "source": [
        "####  3) Faça um histograma da idade da mãe"
      ]
    },
    {
      "cell_type": "code",
      "execution_count": 7,
      "metadata": {
        "colab": {
          "base_uri": "https://localhost:8080/",
          "height": 487
        },
        "id": "ffwJlJwOfm4s",
        "outputId": "ab48d0e6-270d-4bd5-dffe-9b9a853f1d30"
      },
      "outputs": [
        {
          "output_type": "display_data",
          "data": {
            "text/plain": [
              "<Figure size 1200x500 with 2 Axes>"
            ],
            "image/png": "[encoded data removed]"
          },
          "metadata": {}
        }
      ],
      "source": [
        "# Crie o gráfico\n",
        "plt.rc('figure', figsize=(12, 5))\n",
        "fig, axes = plt.subplots(1, 2)\n",
        "\n",
        "# Gerencie os histogramas\n",
        "df_sinasc['IDADEMAE'].hist(ax=axes[0], bins=10)\n",
        "axes[0].set_title('Idade da mãe (Pandas)')\n",
        "axes[0].set_xlabel('Idade (anos)')\n",
        "\n",
        "sns.histplot(data=df_sinasc['IDADEMAE'], bins=10, ax=axes[1])\n",
        "axes[1].set_title('Idade da mãe (Seaborn)')\n",
        "axes[1].set_xlabel('Idade (anos)')\n",
        "\n",
        "# Ajuste o layout do subplot\n",
        "plt.subplots_adjust(wspace=0.3)\n",
        "\n",
        "# Exiba o gráfico\n",
        "plt.show()"
      ]
    },
    {
      "cell_type": "markdown",
      "metadata": {
        "id": "mSc55UJifm4t"
      },
      "source": [
        "#### 4) Faça um histograma do peso do bebê"
      ]
    },
    {
      "cell_type": "code",
      "execution_count": 8,
      "metadata": {
        "colab": {
          "base_uri": "https://localhost:8080/",
          "height": 487
        },
        "id": "n0M6fA9Dfm4u",
        "outputId": "61845f9e-619f-4d90-b2cc-ecbdfdc73632"
      },
      "outputs": [
        {
          "output_type": "display_data",
          "data": {
            "text/plain": [
              "<Figure size 1200x500 with 2 Axes>"
            ],
            "image/png": "[encoded data removed]"
          },
          "metadata": {}
        }
      ],
      "source": [
        "# Crie o gráfico\n",
        "plt.rc('figure', figsize=(12, 5))\n",
        "fig, axes = plt.subplots(1, 2)\n",
        "\n",
        "# Gerencie os histogramas\n",
        "df_sinasc['PESO'].hist(bins=30, ax=axes[0])\n",
        "sns.histplot(data=df_sinasc['PESO'], bins=30, ax=axes[1])\n",
        "\n",
        "# Personalize os títulos e rótulos\n",
        "axes[0].set_title('Peso ao Nascer (Pandas)')\n",
        "axes[1].set_title('Peso ao Nascer (Seaborn)')\n",
        "axes[0].set_xlabel('Peso (gramas)')\n",
        "axes[1].set_xlabel('Peso (gramas)')\n",
        "\n",
        "# Ajuste o layout do subplot\n",
        "plt.subplots_adjust(wspace=0.3)\n",
        "\n",
        "# Adicione uma legenda\n",
        "plt.legend(['Pandas', 'Seaborn'])\n",
        "\n",
        "# Exiba o gráfico\n",
        "plt.show()"
      ]
    },
    {
      "cell_type": "markdown",
      "source": [
        "# **Pequena análise**\n",
        "\n",
        "## Os gráficos é a história da saúde infantil no Brasil.\n",
        "\n",
        "Os gráficos mostram que a maioria dos bebês nascidos no Brasil em 2019 tiveram um peso saudável e que a maioria das mães tinha idade e escolaridade adequadas para a gravidez.\n",
        "\n",
        "No entanto, os gráficos também mostram que ainda há desafios a serem superados. Ainda há uma pequena proporção de bebês que nascem com baixo peso ou macrossomia fetal, e ainda há uma pequena proporção de mães que são adolescentes."
      ],
      "metadata": {
        "id": "e5OP0eUOoilk"
      }
    }
  ],
  "metadata": {
    "kernelspec": {
      "display_name": "Python 3",
      "language": "python",
      "name": "python3"
    },
    "language_info": {
      "codemirror_mode": {
        "name": "ipython",
        "version": 3
      },
      "file_extension": ".py",
      "mimetype": "text/x-python",
      "name": "python",
      "nbconvert_exporter": "python",
      "pygments_lexer": "ipython3",
      "version": "3.8.5"
    },
    "colab": {
      "provenance": []
    }
  },
  "nbformat": 4,
  "nbformat_minor": 0
}