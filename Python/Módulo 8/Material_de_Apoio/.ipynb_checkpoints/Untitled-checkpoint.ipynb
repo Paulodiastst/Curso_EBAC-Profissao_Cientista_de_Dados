{
 "cells": [
  {
   "cell_type": "code",
   "execution_count": 1,
   "id": "638af5a3-793d-4b2d-8833-89bea4365526",
   "metadata": {},
   "outputs": [
    {
     "name": "stdout",
     "output_type": "stream",
     "text": [
      "Writing telecom.csv\n"
     ]
    }
   ],
   "source": [
    "%%writefile telecom.csv\n",
    "customerID,PaymentMethod,MonthlyCharges,TotalCharges,Churn\n",
    "7010-BRBUU,Credit card (automatic),24.1,1734.65,No\n",
    "9688-YGXVR,Credit card (automatic),88.15,3973.2,No\n",
    "9286-DOJGF,Bank transfer (automatic),74.95,2869.85,Yes\n",
    "6994-KERXL,Electronic check,55.9,238.5,No\n",
    "2181-UAESM,Electronic check,53.45,119.5,No\n",
    "4312-GVYNH,Bank transfer (automatic),49.85,3370.2,No\n",
    "2495-KZNFB,Electronic check,90.65,2989.6,No\n",
    "4367-NHWMM,Mailed check,24.9,24.9,No\n",
    "8898-KASCD,Mailed check,35.55,1309.15,No"
   ]
  },
  {
   "cell_type": "code",
   "execution_count": 21,
   "id": "05d5e93a-9c01-4d81-8dc4-368606864940",
   "metadata": {},
   "outputs": [
    {
     "ename": "SyntaxError",
     "evalue": "positional argument follows keyword argument (3667489472.py, line 5)",
     "output_type": "error",
     "traceback": [
      "\u001b[1;36m  Cell \u001b[1;32mIn[21], line 5\u001b[1;36m\u001b[0m\n\u001b[1;33m    with open(file=nome_arquivo, mode=='r', encoding='utf8') as arquivo:\u001b[0m\n\u001b[1;37m                                                           ^\u001b[0m\n\u001b[1;31mSyntaxError\u001b[0m\u001b[1;31m:\u001b[0m positional argument follows keyword argument\n"
     ]
    }
   ],
   "source": [
    "from funvttools import reduce\n",
    "def processar_faturas(nome_arquivos: str):\n",
    "        faturas = []\n",
    "        \n",
    "        with open(file=nome_arquivo, mode=='r', encoding='utf8') as arquivo:\n",
    "            linha = arquivo.readline()\n",
    "            linha = arquivo.readline()\n",
    "            while linha:\n",
    "                fatura = float(linha.strip().split(sep=',')[-3])\n",
    "                faturas.append(fatura)\n",
    "                linha = arquivo.readline()\n",
    "                \n",
    "        total_a_pagar = reduce(lambda x, y: x + y, faturas)\n",
    "        total_a_pagar = round(total_a_pagar, 2)\n",
    "        return total_a_pagar\n",
    "            "
   ]
  },
  {
   "cell_type": "code",
   "execution_count": null,
   "id": "27c90dc7-3639-4cd3-97df-6eaa628be0c7",
   "metadata": {},
   "outputs": [],
   "source": []
  },
  {
   "cell_type": "code",
   "execution_count": null,
   "id": "0b63533d-44f1-41eb-9bac-18669ea5f9d3",
   "metadata": {},
   "outputs": [],
   "source": []
  }
 ],
 "metadata": {
  "kernelspec": {
   "display_name": "Python 3 (ipykernel)",
   "language": "python",
   "name": "python3"
  },
  "language_info": {
   "codemirror_mode": {
    "name": "ipython",
    "version": 3
   },
   "file_extension": ".py",
   "mimetype": "text/x-python",
   "name": "python",
   "nbconvert_exporter": "python",
   "pygments_lexer": "ipython3",
   "version": "3.10.9"
  }
 },
 "nbformat": 4,
 "nbformat_minor": 5
}
