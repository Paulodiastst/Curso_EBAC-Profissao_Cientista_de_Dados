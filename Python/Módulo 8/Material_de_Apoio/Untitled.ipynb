{
 "cells": [
  {
   "cell_type": "code",
   "execution_count": 1,
   "id": "638af5a3-793d-4b2d-8833-89bea4365526",
   "metadata": {},
   "outputs": [
    {
     "name": "stdout",
     "output_type": "stream",
     "text": [
      "Writing telecom.csv\n"
     ]
    }
   ],
   "source": [
    "%%writefile telecom.csv\n",
    "customerID,PaymentMethod,MonthlyCharges,TotalCharges,Churn\n",
    "7010-BRBUU,Credit card (automatic),24.1,1734.65,No\n",
    "9688-YGXVR,Credit card (automatic),88.15,3973.2,No\n",
    "9286-DOJGF,Bank transfer (automatic),74.95,2869.85,Yes\n",
    "6994-KERXL,Electronic check,55.9,238.5,No\n",
    "2181-UAESM,Electronic check,53.45,119.5,No\n",
    "4312-GVYNH,Bank transfer (automatic),49.85,3370.2,No\n",
    "2495-KZNFB,Electronic check,90.65,2989.6,No\n",
    "4367-NHWMM,Mailed check,24.9,24.9,No\n",
    "8898-KASCD,Mailed check,35.55,1309.15,No"
   ]
  },
  {
   "cell_type": "code",
   "execution_count": 31,
   "id": "05d5e93a-9c01-4d81-8dc4-368606864940",
   "metadata": {},
   "outputs": [],
   "source": [
    "from functools import reduce\n",
    "\n",
    "def processar_faturas(nome_arquivo: str) -> float:\n",
    "\n",
    "  faturas = []\n",
    "\n",
    "  with open(file=nome_arquivo, mode='r', encoding='utf8') as arquivo:\n",
    "    linha = arquivo.readline()\n",
    "    linha = arquivo.readline()\n",
    "    while linha:\n",
    "      fatura = float(linha.strip().split(sep=',')[-3])\n",
    "      faturas.append(fatura)\n",
    "      linha = arquivo.readline()\n",
    "\n",
    "  total_a_pagar = reduce(lambda x, y: x + y, faturas)\n",
    "  total_a_pagar = round(total_a_pagar, 2)\n",
    "\n",
    "  return total_a_pagar\n",
    "            "
   ]
  },
  {
   "cell_type": "code",
   "execution_count": 32,
   "id": "87469930-89a8-401c-8e98-394c8fbfa6f8",
   "metadata": {},
   "outputs": [
    {
     "name": "stdout",
     "output_type": "stream",
     "text": [
      "497.5\n"
     ]
    }
   ],
   "source": [
    "total_a_pagar = processar_faturas(nome_arquivo='./telecom.csv')\n",
    "print(total_a_pagar)"
   ]
  },
  {
   "cell_type": "code",
   "execution_count": null,
   "id": "003dc896-e0f4-440c-b8b3-7a42721c0d8b",
   "metadata": {},
   "outputs": [],
   "source": []
  }
 ],
 "metadata": {
  "kernelspec": {
   "display_name": "Python 3 (ipykernel)",
   "language": "python",
   "name": "python3"
  },
  "language_info": {
   "codemirror_mode": {
    "name": "ipython",
    "version": 3
   },
   "file_extension": ".py",
   "mimetype": "text/x-python",
   "name": "python",
   "nbconvert_exporter": "python",
   "pygments_lexer": "ipython3",
   "version": "3.10.9"
  }
 },
 "nbformat": 4,
 "nbformat_minor": 5
}
